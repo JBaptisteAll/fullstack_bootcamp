{
 "cells": [
  {
   "cell_type": "code",
   "execution_count": null,
   "metadata": {},
   "outputs": [],
   "source": [
    "# Question 1\n",
    "lives = 3\n",
    "\n",
    "quest_1 = float(input(\"What is 4-1?\"))\n",
    "while quest_1 != 3:\n",
    "    lives -= 1\n",
    "    if lives == 0:\n",
    "        print(\"You lose!\")\n",
    "        break\n",
    "    quest_1 = float(input(\"Wrong answer, please try again. What is 4-1?\"))\n",
    "\n",
    "print(f\"You answered: {round(quest_1)}\")\n",
    "\n",
    "\n",
    "# Question 2\n",
    "if lives > 0:\n",
    "    quest_2 = float(input(\"What is the square root of 25?\"))\n",
    "    while quest_2 != 5:\n",
    "        lives -= 1\n",
    "        if lives == 0:\n",
    "            print(\"You lose!\")\n",
    "            break\n",
    "        quest_2 = float(input(\"Wrong answer, please try again. What is the square root of 25?\"))\n",
    "\n",
    "    print(f\"You answered: {quest_2}\")\n",
    "\n",
    "\n",
    "# Question 3\n",
    "if lives > 0:\n",
    "    quest_3 = input(\"Who is the CEO of Tesla and SpaceX?\").lower()\n",
    "    while quest_3 != \"elon musk\":\n",
    "        lives -= 1\n",
    "        if lives == 0:\n",
    "            print(\"You lose!\")\n",
    "            break\n",
    "        quest_3 = input(\"Wrong answer, please try again. Who is the CEO of Tesla and SpaceX?\").lower()\n",
    "\n",
    "    print(f\"You answered: {quest_3}\")\n",
    "\n",
    "print(\"Well done!\")"
   ]
  }
 ],
 "metadata": {
  "kernelspec": {
   "display_name": "Python 3",
   "language": "python",
   "name": "python3"
  },
  "language_info": {
   "name": "python",
   "version": "3.12.3"
  }
 },
 "nbformat": 4,
 "nbformat_minor": 2
}
