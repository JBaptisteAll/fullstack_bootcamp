{
 "cells": [
  {
   "cell_type": "code",
   "execution_count": 2,
   "metadata": {},
   "outputs": [],
   "source": [
    "from IPython.display import Image\n",
    "from IPython.display import HTML"
   ]
  },
  {
   "cell_type": "code",
   "execution_count": 14,
   "metadata": {},
   "outputs": [
    {
     "name": "stdout",
     "output_type": "stream",
     "text": [
      "You answered: 3\n"
     ]
    },
    {
     "data": {
      "text/html": [
       "<img src=\"https://media1.giphy.com/media/v1.Y2lkPTZjMDliOTUyOGVhOGtoem9hMzRxYmF1ZTJxeWM3aHJiMzgyM2xqc3FsZmpjNW1hMiZlcD12MV9naWZzX3NlYXJjaCZjdD1n/3ohryhNgUwwZyxgktq/giphy.gif\">"
      ],
      "text/plain": [
       "<IPython.core.display.HTML object>"
      ]
     },
     "metadata": {},
     "output_type": "display_data"
    },
    {
     "name": "stdout",
     "output_type": "stream",
     "text": [
      "You answered: 5.0\n"
     ]
    },
    {
     "data": {
      "text/html": [
       "<img src=\"https://media1.giphy.com/media/v1.Y2lkPTZjMDliOTUyOGVhOGtoem9hMzRxYmF1ZTJxeWM3aHJiMzgyM2xqc3FsZmpjNW1hMiZlcD12MV9naWZzX3NlYXJjaCZjdD1n/3ohryhNgUwwZyxgktq/giphy.gif\">"
      ],
      "text/plain": [
       "<IPython.core.display.HTML object>"
      ]
     },
     "metadata": {},
     "output_type": "display_data"
    },
    {
     "name": "stdout",
     "output_type": "stream",
     "text": [
      "You answered: elon musk\n"
     ]
    },
    {
     "data": {
      "text/html": [
       "<img src=\"https://media1.giphy.com/media/v1.Y2lkPTZjMDliOTUyOGVhOGtoem9hMzRxYmF1ZTJxeWM3aHJiMzgyM2xqc3FsZmpjNW1hMiZlcD12MV9naWZzX3NlYXJjaCZjdD1n/3ohryhNgUwwZyxgktq/giphy.gif\">"
      ],
      "text/plain": [
       "<IPython.core.display.HTML object>"
      ]
     },
     "metadata": {},
     "output_type": "display_data"
    },
    {
     "name": "stdout",
     "output_type": "stream",
     "text": [
      "Well done!\n"
     ]
    },
    {
     "data": {
      "text/html": [
       "<img src=\"https://media1.tenor.com/m/qNPpRT04stcAAAAd/you-won-willy-wonka-and-the-chocolate-factory.gif\">"
      ],
      "text/plain": [
       "<IPython.core.display.HTML object>"
      ]
     },
     "metadata": {},
     "output_type": "display_data"
    }
   ],
   "source": [
    "# Question 1\n",
    "lives = 3\n",
    "\n",
    "quest_1 = float(input(\"What is 4-1?🤓\"))\n",
    "while quest_1 != 3:\n",
    "    lives -= 1\n",
    "    if lives == 0:\n",
    "        print(f\"You lose!\")\n",
    "        display(HTML('<img src=\"https://media0.giphy.com/media/v1.Y2lkPTZjMDliOTUyeTg2dzMwejBvdDd4dmZ5ZXV0OHJybmw1Z2NsOXJlYWUzemFtNTA5YyZlcD12MV9naWZzX3NlYXJjaCZjdD1n/cr9vIO7NsP5cY/200w.gif\">'))\n",
    "        break\n",
    "    quest_1 = float(input(\"Wrong answer, please try again. What is 4-1?\"))\n",
    "\n",
    "print(f\"You answered: {round(quest_1)}\")\n",
    "display(HTML('<img src=\"https://media1.giphy.com/media/v1.Y2lkPTZjMDliOTUyOGVhOGtoem9hMzRxYmF1ZTJxeWM3aHJiMzgyM2xqc3FsZmpjNW1hMiZlcD12MV9naWZzX3NlYXJjaCZjdD1n/3ohryhNgUwwZyxgktq/giphy.gif\">'))\n",
    "\n",
    "\n",
    "# Question 2\n",
    "if lives > 0:\n",
    "    quest_2 = float(input(\"What is the square root of 25?\"))\n",
    "    while quest_2 != 5:\n",
    "        lives -= 1\n",
    "        if lives == 0:\n",
    "            print(\"You lose!\")\n",
    "            display(HTML('<img src=\"https://media0.giphy.com/media/v1.Y2lkPTZjMDliOTUyeTg2dzMwejBvdDd4dmZ5ZXV0OHJybmw1Z2NsOXJlYWUzemFtNTA5YyZlcD12MV9naWZzX3NlYXJjaCZjdD1n/cr9vIO7NsP5cY/200w.gif\">'))\n",
    "            break\n",
    "        quest_2 = float(input(\"Wrong answer, please try again. What is the square root of 25?\"))\n",
    "\n",
    "    print(f\"You answered: {quest_2}\")\n",
    "    display(HTML('<img src=\"https://media1.giphy.com/media/v1.Y2lkPTZjMDliOTUyOGVhOGtoem9hMzRxYmF1ZTJxeWM3aHJiMzgyM2xqc3FsZmpjNW1hMiZlcD12MV9naWZzX3NlYXJjaCZjdD1n/3ohryhNgUwwZyxgktq/giphy.gif\">'))\n",
    "\n",
    "\n",
    "# Question 3\n",
    "if lives > 0:\n",
    "    quest_3 = input(\"Who is the CEO of Tesla and SpaceX?\").lower()\n",
    "    while quest_3 != \"elon musk\":\n",
    "        lives -= 1\n",
    "        if lives == 0:\n",
    "            print(\"You lose!\")\n",
    "            display(HTML('<img src=\"https://media0.giphy.com/media/v1.Y2lkPTZjMDliOTUyeTg2dzMwejBvdDd4dmZ5ZXV0OHJybmw1Z2NsOXJlYWUzemFtNTA5YyZlcD12MV9naWZzX3NlYXJjaCZjdD1n/cr9vIO7NsP5cY/200w.gif\">'))\n",
    "            break\n",
    "        quest_3 = input(\"Wrong answer, please try again. Who is the CEO of Tesla and SpaceX?\").lower()\n",
    "\n",
    "    print(f\"You answered: {quest_3}\")\n",
    "    display(HTML('<img src=\"https://media1.giphy.com/media/v1.Y2lkPTZjMDliOTUyOGVhOGtoem9hMzRxYmF1ZTJxeWM3aHJiMzgyM2xqc3FsZmpjNW1hMiZlcD12MV9naWZzX3NlYXJjaCZjdD1n/3ohryhNgUwwZyxgktq/giphy.gif\">'))\n",
    "\n",
    "print(\"Well done!\")\n",
    "display(HTML('<img src=\"https://media1.tenor.com/m/qNPpRT04stcAAAAd/you-won-willy-wonka-and-the-chocolate-factory.gif\">'))\n"
   ]
  }
 ],
 "metadata": {
  "kernelspec": {
   "display_name": "base",
   "language": "python",
   "name": "python3"
  },
  "language_info": {
   "codemirror_mode": {
    "name": "ipython",
    "version": 3
   },
   "file_extension": ".py",
   "mimetype": "text/x-python",
   "name": "python",
   "nbconvert_exporter": "python",
   "pygments_lexer": "ipython3",
   "version": "3.12.7"
  }
 },
 "nbformat": 4,
 "nbformat_minor": 2
}
