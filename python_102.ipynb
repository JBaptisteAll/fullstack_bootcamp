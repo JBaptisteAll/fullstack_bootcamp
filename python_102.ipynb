{
 "cells": [
  {
   "cell_type": "code",
   "execution_count": 2,
   "metadata": {},
   "outputs": [
    {
     "name": "stdout",
     "output_type": "stream",
     "text": [
      "Hello World!\n"
     ]
    }
   ],
   "source": [
    "print(\"Hello World!\")"
   ]
  },
  {
   "cell_type": "code",
   "execution_count": 9,
   "metadata": {},
   "outputs": [
    {
     "name": "stdout",
     "output_type": "stream",
     "text": [
      "What is the password?\n",
      "Wrong password, please try again\n",
      "What is the password?\n",
      "Wrong password, please try again\n",
      "What is the password?\n",
      "Wrong password, please try again\n",
      "What is the password?\n",
      "Correct password.\n"
     ]
    }
   ],
   "source": [
    "# Create a password\n",
    "mdp = input(print(\"What is the password?\"))\n",
    "\n",
    "while mdp != \"123\":\n",
    "    print(\"Wrong password, please try again\")\n",
    "    mdp = input(print(\"What is the password?\"))\n",
    "else:\n",
    "    print(\"Correct password.\")"
   ]
  },
  {
   "cell_type": "code",
   "execution_count": 16,
   "metadata": {},
   "outputs": [
    {
     "name": "stdout",
     "output_type": "stream",
     "text": [
      "Hello\n",
      "I\n",
      "Michel\n",
      "am\n"
     ]
    }
   ],
   "source": [
    "# Manipulate Data Type\n",
    "\n",
    "michel = [\"Hello\", \"I\", \"Michel\", \"am\"]\n",
    "\n",
    "for i in michel:\n",
    "    print(i)"
   ]
  },
  {
   "cell_type": "code",
   "execution_count": 19,
   "metadata": {},
   "outputs": [
    {
     "name": "stdout",
     "output_type": "stream",
     "text": [
      "Hello\n",
      "I\n",
      "am\n",
      "Michel\n"
     ]
    }
   ],
   "source": [
    "elem = michel.pop(2)\n",
    "\n",
    "michel.append(elem)\n",
    "\n",
    "for i in michel:\n",
    "    print(i)"
   ]
  },
  {
   "cell_type": "code",
   "execution_count": 26,
   "metadata": {},
   "outputs": [
    {
     "name": "stdout",
     "output_type": "stream",
     "text": [
      "[9, 12, 16, 34, 58]\n"
     ]
    }
   ],
   "source": [
    "age = [12, 16, 34, 58, 9]\n",
    "\n",
    "age.sort()\n",
    "print(age)"
   ]
  },
  {
   "cell_type": "code",
   "execution_count": 27,
   "metadata": {},
   "outputs": [],
   "source": [
    "# Dictionnaires\n",
    "import requests\n",
    "request = requests.get(\"https://swapi.dev/api/people/1/\")\n",
    "dic = request.json()"
   ]
  },
  {
   "cell_type": "code",
   "execution_count": 30,
   "metadata": {},
   "outputs": [
    {
     "ename": "NameError",
     "evalue": "name 'name' is not defined",
     "output_type": "error",
     "traceback": [
      "\u001b[1;31m---------------------------------------------------------------------------\u001b[0m",
      "\u001b[1;31mNameError\u001b[0m                                 Traceback (most recent call last)",
      "Cell \u001b[1;32mIn[30], line 1\u001b[0m\n\u001b[1;32m----> 1\u001b[0m \u001b[38;5;28mprint\u001b[39m(\u001b[38;5;124mf\u001b[39m\u001b[38;5;124m\"\u001b[39m\u001b[38;5;132;01m{\u001b[39;00mdic[\u001b[43mname\u001b[49m]\u001b[38;5;132;01m}\u001b[39;00m\u001b[38;5;124m is \u001b[39m\u001b[38;5;132;01m{\u001b[39;00mdic[height]\u001b[38;5;132;01m}\u001b[39;00m\u001b[38;5;124m cm tall and weighs \u001b[39m\u001b[38;5;132;01m{\u001b[39;00mdic[mass]\u001b[38;5;132;01m}\u001b[39;00m\u001b[38;5;124m kg. He was born in \u001b[39m\u001b[38;5;132;01m{\u001b[39;00mdic[birth_year]\u001b[38;5;132;01m}\u001b[39;00m\u001b[38;5;124m\"\u001b[39m)\n",
      "\u001b[1;31mNameError\u001b[0m: name 'name' is not defined"
     ]
    }
   ],
   "source": [
    "print(f\"{dic[name]} is {dic[height]} cm tall and weighs {dic[mass]} kg. He was born in {dic[birth_year]}\")"
   ]
  },
  {
   "cell_type": "code",
   "execution_count": 35,
   "metadata": {},
   "outputs": [],
   "source": [
    "def sqrt(number):\n",
    "    result = number**0.5\n",
    "    print(f\"the square root of {number} is {result}\")"
   ]
  },
  {
   "cell_type": "code",
   "execution_count": 36,
   "metadata": {},
   "outputs": [
    {
     "name": "stdout",
     "output_type": "stream",
     "text": [
      "the square root of 25 is 5.0\n"
     ]
    }
   ],
   "source": [
    "sqrt(25)"
   ]
  },
  {
   "cell_type": "code",
   "execution_count": 7,
   "metadata": {},
   "outputs": [
    {
     "name": "stdout",
     "output_type": "stream",
     "text": [
      "You answered: 3\n",
      "You answered: 5.0\n",
      "You answered: elon musk\n",
      "Well done!\n"
     ]
    }
   ],
   "source": [
    "# Question 1\n",
    "lives = 3\n",
    "\n",
    "quest_1 = float(input(\"What is 4-1?\"))\n",
    "while quest_1 != 3:\n",
    "    lives -= 1\n",
    "    if lives == 0:\n",
    "        print(\"You lose!\")\n",
    "        break\n",
    "    quest_1 = float(input(\"Wrong answer, please try again. What is 4-1?\"))\n",
    "\n",
    "print(f\"You answered: {round(quest_1)}\")\n",
    "\n",
    "\n",
    "# Question 2\n",
    "if lives > 0:\n",
    "    quest_2 = float(input(\"What is the square root of 25?\"))\n",
    "    while quest_2 != 5:\n",
    "        lives -= 1\n",
    "        if lives == 0:\n",
    "            print(\"You lose!\")\n",
    "            break\n",
    "        quest_2 = float(input(\"Wrong answer, please try again. What is the square root of 25?\"))\n",
    "\n",
    "    print(f\"You answered: {quest_2}\")\n",
    "\n",
    "\n",
    "# Question 3\n",
    "if lives > 0:\n",
    "    quest_3 = input(\"Who is the CEO of Tesla and SpaceX?\").lower()\n",
    "    while quest_3 != \"elon musk\":\n",
    "        lives -= 1\n",
    "        if lives == 0:\n",
    "            print(\"You lose!\")\n",
    "            break\n",
    "        quest_3 = input(\"Wrong answer, please try again. Who is the CEO of Tesla and SpaceX?\").lower()\n",
    "\n",
    "    print(f\"You answered: {quest_3}\")\n",
    "\n",
    "print(\"Well done!\")"
   ]
  }
 ],
 "metadata": {
  "kernelspec": {
   "display_name": "Python 3",
   "language": "python",
   "name": "python3"
  },
  "language_info": {
   "codemirror_mode": {
    "name": "ipython",
    "version": 3
   },
   "file_extension": ".py",
   "mimetype": "text/x-python",
   "name": "python",
   "nbconvert_exporter": "python",
   "pygments_lexer": "ipython3",
   "version": "3.12.3"
  }
 },
 "nbformat": 4,
 "nbformat_minor": 2
}
