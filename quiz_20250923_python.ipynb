{
 "cells": [
  {
   "cell_type": "markdown",
   "id": "a4b8b520",
   "metadata": {},
   "source": [
    "### Question 1\n",
    "Que fait print(\"Hello\") en Python ?\n",
    "\n",
    "1. Affiche dans la console : Hello\n",
    "2. Crée une variable\n",
    "3. Ouvre un fichier\n",
    "4. Télécharge une librairie\n"
   ]
  },
  {
   "cell_type": "code",
   "execution_count": 1,
   "id": "7488d5ab",
   "metadata": {},
   "outputs": [
    {
     "name": "stdout",
     "output_type": "stream",
     "text": [
      "✅ Bonne réponse !\n"
     ]
    }
   ],
   "source": [
    "# Réponds à la question 1 en tapant le numéro de la bonne réponse (entre 1 et 4)\n",
    "try:\n",
    "    reponse = int(input(\"Ta réponse : \"))\n",
    "    if reponse == 1:\n",
    "        print(\"✅ Bonne réponse !\")\n",
    "    else:\n",
    "        print(\"❌ Mauvaise réponse.\")\n",
    "except:\n",
    "    print(\"⚠️ Entrée invalide. Tape un chiffre entre 1 et 4.\")\n"
   ]
  },
  {
   "cell_type": "markdown",
   "id": "63cc9134",
   "metadata": {},
   "source": [
    "### Question 2\n",
    "Quelle est la bonne syntaxe pour créer une liste ?\n",
    "\n",
    "1. {1, 2, 3}\n",
    "2. [1, 2, 3]\n",
    "3. (1, 2, 3)\n",
    "4. <1, 2, 3>\n"
   ]
  },
  {
   "cell_type": "code",
   "execution_count": 2,
   "id": "3a5c6543",
   "metadata": {},
   "outputs": [
    {
     "name": "stdout",
     "output_type": "stream",
     "text": [
      "✅ Bonne réponse !\n"
     ]
    }
   ],
   "source": [
    "# Réponds à la question 2 en tapant le numéro de la bonne réponse (entre 1 et 4)\n",
    "try:\n",
    "    reponse = int(input(\"Ta réponse : \"))\n",
    "    if reponse == 2:\n",
    "        print(\"✅ Bonne réponse !\")\n",
    "    else:\n",
    "        print(\"❌ Mauvaise réponse.\")\n",
    "except:\n",
    "    print(\"⚠️ Entrée invalide. Tape un chiffre entre 1 et 4.\")\n"
   ]
  },
  {
   "cell_type": "markdown",
   "id": "c5aea48a",
   "metadata": {},
   "source": [
    "### Question 3\n",
    "Quelle fonction permet d’obtenir la longueur d’une liste ?\n",
    "\n",
    "1. count()\n",
    "2. len()\n",
    "3. length()\n",
    "4. size()\n"
   ]
  },
  {
   "cell_type": "code",
   "execution_count": 3,
   "id": "73b7c4aa",
   "metadata": {},
   "outputs": [
    {
     "name": "stdout",
     "output_type": "stream",
     "text": [
      "✅ Bonne réponse !\n"
     ]
    }
   ],
   "source": [
    "# Réponds à la question 3 en tapant le numéro de la bonne réponse (entre 1 et 4)\n",
    "try:\n",
    "    reponse = int(input(\"Ta réponse : \"))\n",
    "    if reponse == 2:\n",
    "        print(\"✅ Bonne réponse !\")\n",
    "    else:\n",
    "        print(\"❌ Mauvaise réponse.\")\n",
    "except:\n",
    "    print(\"⚠️ Entrée invalide. Tape un chiffre entre 1 et 4.\")\n"
   ]
  },
  {
   "cell_type": "markdown",
   "id": "a98b3a24",
   "metadata": {},
   "source": [
    "### Question 4\n",
    "Que renvoie 3 == \"3\" en Python ?\n",
    "\n",
    "1. True\n",
    "2. False\n",
    "3. Erreur\n",
    "4. None\n"
   ]
  },
  {
   "cell_type": "code",
   "execution_count": 4,
   "id": "887333a4",
   "metadata": {},
   "outputs": [
    {
     "name": "stdout",
     "output_type": "stream",
     "text": [
      "✅ Bonne réponse !\n"
     ]
    }
   ],
   "source": [
    "# Réponds à la question 4 en tapant le numéro de la bonne réponse (entre 1 et 4)\n",
    "try:\n",
    "    reponse = int(input(\"Ta réponse : \"))\n",
    "    if reponse == 2:\n",
    "        print(\"✅ Bonne réponse !\")\n",
    "    else:\n",
    "        print(\"❌ Mauvaise réponse.\")\n",
    "except:\n",
    "    print(\"⚠️ Entrée invalide. Tape un chiffre entre 1 et 4.\")\n"
   ]
  },
  {
   "cell_type": "markdown",
   "id": "67fe6ce2",
   "metadata": {},
   "source": [
    "### Question 5\n",
    "Quel mot-clé est utilisé pour définir une fonction ?\n",
    "\n",
    "1. def\n",
    "2. function\n",
    "3. fun\n",
    "4. define\n"
   ]
  },
  {
   "cell_type": "code",
   "execution_count": null,
   "id": "21a59175",
   "metadata": {},
   "outputs": [
    {
     "name": "stdout",
     "output_type": "stream",
     "text": [
      "✅ Bonne réponse !\n"
     ]
    }
   ],
   "source": [
    "# Réponds à la question 5 en tapant le numéro de la bonne réponse (entre 1 et 4)\n",
    "try:\n",
    "    reponse = int(input(\"Ta réponse : \"))\n",
    "    if reponse == 1 :\n",
    "        print(\"✅ Bonne réponse !\")\n",
    "    else:\n",
    "        print(\"❌ Mauvaise réponse.\")\n",
    "except:\n",
    "    print(\"⚠️ Entrée invalide. Tape un chiffre entre 1 et 4.\")"
   ]
  },
  {
   "cell_type": "markdown",
   "id": "8d1bc7f9",
   "metadata": {},
   "source": [
    "### Question 6\n",
    "Comment importer une librairie en Python ?\n",
    "\n",
    "1. install pandas\n",
    "2. pip pandas\n",
    "3. import pandas\n",
    "4. use pandas\n"
   ]
  },
  {
   "cell_type": "code",
   "execution_count": null,
   "id": "7905db2b",
   "metadata": {},
   "outputs": [
    {
     "name": "stdout",
     "output_type": "stream",
     "text": [
      "✅ Bonne réponse !\n"
     ]
    }
   ],
   "source": [
    "# Réponds à la question 6 en tapant le numéro de la bonne réponse (entre 1 et 4)\n",
    "try:\n",
    "    reponse = int(input(\"Ta réponse : \"))\n",
    "    if reponse == 3:\n",
    "        print(\"✅ Bonne réponse !\")\n",
    "    else:\n",
    "        print(\"❌ Mauvaise réponse.\")\n",
    "except:\n",
    "    print(\"⚠️ Entrée invalide. Tape un chiffre entre 1 et 4.\")"
   ]
  },
  {
   "cell_type": "markdown",
   "id": "5ff963af",
   "metadata": {},
   "source": [
    "### Question 7\n",
    "Que fait ```df[\"colonne\"].avg()``` en pandas ?\n",
    "\n",
    "1. Renvoie une erreur\n",
    "2. Renvoie la somme\n",
    "3. Renvoie la médiane\n",
    "4. Renvoie la moyenne de la colonne\n"
   ]
  },
  {
   "cell_type": "code",
   "execution_count": null,
   "id": "9d7b6a65",
   "metadata": {},
   "outputs": [
    {
     "name": "stdout",
     "output_type": "stream",
     "text": [
      "❌ Mauvaise réponse.\n"
     ]
    }
   ],
   "source": [
    "# Réponds à la question 7 en tapant le numéro de la bonne réponse (entre 1 et 4)\n",
    "try:\n",
    "    reponse = int(input(\"Ta réponse : \"))\n",
    "    if reponse == 1:\n",
    "        print(\"✅ Bonne réponse !\")\n",
    "    else:\n",
    "        print(\"❌ Mauvaise réponse.\")\n",
    "except:\n",
    "    print(\"⚠️ Entrée invalide. Tape un chiffre entre 1 et 4.\")"
   ]
  },
  {
   "cell_type": "markdown",
   "id": "6afe8a5b",
   "metadata": {},
   "source": [
    "### Question 8\n",
    "Qu’est-ce qu’une base de données ?\n",
    "\n",
    "1. Une page web\n",
    "2. Une application de messagerie\n",
    "3. Un fichier image\n",
    "4. Un système qui permet de stocker et organiser des données\n"
   ]
  },
  {
   "cell_type": "code",
   "execution_count": null,
   "id": "8afb5f1c",
   "metadata": {},
   "outputs": [
    {
     "name": "stdout",
     "output_type": "stream",
     "text": [
      "✅ Bonne réponse !\n"
     ]
    }
   ],
   "source": [
    "# Réponds à la question 8 en tapant le numéro de la bonne réponse (entre 1 et 4)\n",
    "try:\n",
    "    reponse = int(input(\"Ta réponse : \"))\n",
    "    if reponse == 4:\n",
    "        print(\"✅ Bonne réponse !\")\n",
    "    else:\n",
    "        print(\"❌ Mauvaise réponse.\")\n",
    "except:\n",
    "    print(\"⚠️ Entrée invalide. Tape un chiffre entre 1 et 4.\")"
   ]
  },
  {
   "cell_type": "markdown",
   "id": "f928df8b",
   "metadata": {},
   "source": [
    "### Question 9\n",
    "Quel est le type de variable retourné par input()\n",
    "\n",
    "1. int\n",
    "2. string\n",
    "3. bool\n",
    "4. float\n"
   ]
  },
  {
   "cell_type": "code",
   "execution_count": null,
   "id": "74e7805a",
   "metadata": {},
   "outputs": [
    {
     "name": "stdout",
     "output_type": "stream",
     "text": [
      "❌ Mauvaise réponse.\n"
     ]
    }
   ],
   "source": [
    "# Réponds à la question 9 en tapant le numéro de la bonne réponse (entre 1 et 4)\n",
    "try:\n",
    "    reponse = int(input(\"Ta réponse : \"))\n",
    "    if reponse == 2:\n",
    "        print(\"✅ Bonne réponse !\")\n",
    "    else:\n",
    "        print(\"❌ Mauvaise réponse.\")\n",
    "except:\n",
    "    print(\"⚠️ Entrée invalide. Tape un chiffre entre 1 et 4.\")"
   ]
  },
  {
   "cell_type": "markdown",
   "id": "15915edd",
   "metadata": {},
   "source": [
    "### Question 10\n",
    "Quelle commande affiche l’état du dépôt ?\n",
    "\n",
    "1. git info\n",
    "2. git show\n",
    "3. git check\n",
    "4. git status\n"
   ]
  },
  {
   "cell_type": "code",
   "execution_count": null,
   "id": "b42f0f2c",
   "metadata": {},
   "outputs": [
    {
     "name": "stdout",
     "output_type": "stream",
     "text": [
      "✅ Bonne réponse !\n"
     ]
    }
   ],
   "source": [
    "# Réponds à la question 10 en tapant le numéro de la bonne réponse (entre 1 et 4)\n",
    "try:\n",
    "    reponse = int(input(\"Ta réponse : \"))\n",
    "    if reponse == 4:\n",
    "        print(\"✅ Bonne réponse !\")\n",
    "    else:\n",
    "        print(\"❌ Mauvaise réponse.\")\n",
    "except:\n",
    "    print(\"⚠️ Entrée invalide. Tape un chiffre entre 1 et 4.\")"
   ]
  },
  {
   "cell_type": "markdown",
   "id": "5a12f3f4",
   "metadata": {},
   "source": [
    "### Question 11\n",
    "Quelle commande enregistre des fichiers dans la zone de staging ?\n",
    "\n",
    "1. git add\n",
    "2. git commit\n",
    "3. git stage\n",
    "4. git save"
   ]
  },
  {
   "cell_type": "code",
   "execution_count": null,
   "id": "1085558b",
   "metadata": {},
   "outputs": [
    {
     "name": "stdout",
     "output_type": "stream",
     "text": [
      "✅ Bonne réponse !\n"
     ]
    }
   ],
   "source": [
    "# Réponds à la question 11 en tapant le numéro de la bonne réponse (entre 1 et 4)\n",
    "try:\n",
    "    reponse = int(input(\"Ta réponse : \"))\n",
    "    if reponse == 1:\n",
    "        print(\"✅ Bonne réponse !\")\n",
    "    else:\n",
    "        print(\"❌ Mauvaise réponse.\")\n",
    "except:\n",
    "    print(\"⚠️ Entrée invalide. Tape un chiffre entre 1 et 4.\")"
   ]
  },
  {
   "cell_type": "markdown",
   "id": "04d369da",
   "metadata": {},
   "source": [
    "### Question 12\n",
    "Qu’est-ce que GitHub ?\n",
    "\n",
    "1. Un langage de programmation\n",
    "2. Un éditeur de texte\n",
    "3. Un système d’exploitation\n",
    "4. Une plateforme pour héberger du code"
   ]
  },
  {
   "cell_type": "code",
   "execution_count": null,
   "id": "f0da3d07",
   "metadata": {},
   "outputs": [
    {
     "name": "stdout",
     "output_type": "stream",
     "text": [
      "✅ Bonne réponse !\n"
     ]
    }
   ],
   "source": [
    "# Réponds à la question 12 en tapant le numéro de la bonne réponse (entre 1 et 4)\n",
    "try:\n",
    "    reponse = int(input(\"Ta réponse : \"))\n",
    "    if reponse == 4:\n",
    "        print(\"✅ Bonne réponse !\")\n",
    "    else:\n",
    "        print(\"❌ Mauvaise réponse.\")\n",
    "except:\n",
    "    print(\"⚠️ Entrée invalide. Tape un chiffre entre 1 et 4.\")\n"
   ]
  },
  {
   "cell_type": "markdown",
   "id": "22ef3126",
   "metadata": {},
   "source": [
    "### Question 13\n",
    "Quelle est la différence entre Git et GitHub ?\n",
    "\n",
    "1. GitHub est un langage de programmation\n",
    "2. Git sert pour Python\n",
    "3. Git est un logiciel de versionnement, GitHub est une plateforme en ligne\n",
    "4. Aucune différence"
   ]
  },
  {
   "cell_type": "code",
   "execution_count": null,
   "id": "fe896216",
   "metadata": {},
   "outputs": [
    {
     "name": "stdout",
     "output_type": "stream",
     "text": [
      "✅ Bonne réponse !\n"
     ]
    }
   ],
   "source": [
    "# Réponds à la question 13 en tapant le numéro de la bonne réponse (entre 1 et 4)\n",
    "try:\n",
    "    reponse = int(input(\"Ta réponse : \"))\n",
    "    if reponse == 3:\n",
    "        print(\"✅ Bonne réponse !\")\n",
    "    else:\n",
    "        print(\"❌ Mauvaise réponse.\")\n",
    "except:\n",
    "    print(\"⚠️ Entrée invalide. Tape un chiffre entre 1 et 4.\")"
   ]
  },
  {
   "cell_type": "markdown",
   "id": "a31c419d",
   "metadata": {},
   "source": [
    "### Question 14\n",
    "Quelle commande SQL permet de sélectionner toutes les colonnes d'une table ?\n",
    "\n",
    "1. SELECT [:] FROM\n",
    "2. TAKE * FROM\n",
    "3. SELECT * FROM\n",
    "4. SELECT all FROM"
   ]
  },
  {
   "cell_type": "code",
   "execution_count": null,
   "id": "228c40d5",
   "metadata": {},
   "outputs": [
    {
     "name": "stdout",
     "output_type": "stream",
     "text": [
      "✅ Bonne réponse !\n"
     ]
    }
   ],
   "source": [
    "# Réponds à la question 14 en tapant le numéro de la bonne réponse (entre 1 et 4)\n",
    "try:\n",
    "    reponse = int(input(\"Ta réponse : \"))\n",
    "    if reponse == 3:\n",
    "        print(\"✅ Bonne réponse !\")\n",
    "    else:\n",
    "        print(\"❌ Mauvaise réponse.\")\n",
    "except:\n",
    "    print(\"⚠️ Entrée invalide. Tape un chiffre entre 1 et 4.\")"
   ]
  }
 ],
 "metadata": {
  "kernelspec": {
   "display_name": "base",
   "language": "python",
   "name": "python3"
  },
  "language_info": {
   "codemirror_mode": {
    "name": "ipython",
    "version": 3
   },
   "file_extension": ".py",
   "mimetype": "text/x-python",
   "name": "python",
   "nbconvert_exporter": "python",
   "pygments_lexer": "ipython3",
   "version": "3.11.7"
  }
 },
 "nbformat": 4,
 "nbformat_minor": 5
}
